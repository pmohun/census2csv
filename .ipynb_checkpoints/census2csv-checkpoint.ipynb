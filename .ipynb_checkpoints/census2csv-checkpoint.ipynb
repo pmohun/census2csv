{
 "cells": [
  {
   "cell_type": "code",
   "execution_count": 1,
   "metadata": {
    "collapsed": true
   },
   "outputs": [],
   "source": [
    "#! python3\n",
    "# census2csv\n",
    "\n",
    "# This script is used to scrape and consolidate demographic, population, and housing data \n",
    "# from the United States census website at: https://www.ffiec.gov/census/default.aspx"
   ]
  },
  {
   "cell_type": "code",
   "execution_count": 2,
   "metadata": {
    "collapsed": true
   },
   "outputs": [],
   "source": [
    "import csv\n",
    "import os\n",
    "import sys\n",
    "import requests\n",
    "from lxml import html\n",
    "from bs4 import BeautifulSoup\n",
    "from tkinter import filedialog\n",
    "from nested_dict import nested_dict\n",
    "import pandas as pd"
   ]
  },
  {
   "cell_type": "code",
   "execution_count": 3,
   "metadata": {
    "collapsed": true
   },
   "outputs": [],
   "source": [
    "# import specific county codes for parsing\n",
    "\n",
    "geo_info = ([36047,36061,6075,11001,6037,17031,25025,36081,6081,25021,36005,6111,36085,36119,\n",
    "            24033,53025,6059,34017,25017,6071,24031,6029,36059,42007,6065,6083,50003,6085,17197])\n",
    "\n",
    "# standardize for use in parsing\n",
    "state = []\n",
    "county = []\n",
    "for geo in geo_info:\n",
    "    geo = str(geo)\n",
    "    if len(geo) > 7:\n",
    "        geo = geo[:-1].replace(\".\",\"\") # remove the last digit, and remove decimals\n",
    "    if len(geo) < 5:\n",
    "        geo = '0' + geo # for states less than 10, add a prefix 0 to fit the naming convention\n",
    "    state.append(geo[:2])\n",
    "    county.append(geo[2:])\n",
    "\n",
    "# define columns for tables\n",
    "columns = []\n",
    "demographic_columns = ['Tract Code','Tract Income Level','Distressed (Y/N)','Tract Median Fam Income','MSA Median Fam Income','2017 Median Fam Income','2015 Median Fam Income','Tract Population','Tract Minority %','Minority Pop','Owner Occupied Units','1-4 Fam Units','state','county']\n",
    "population_columns = ['Tract Code','Tract Population','Tract Minority %','Number of Families','Number Households','Non Hispanic White Pop','tract_minority_pop','american_indian_pop','asian_islander_pop','black_population','hisplanic_population','mixed_population','state','county']\n",
    "housing_columns = ['Tract Code','Total Housing Units','1-4 Family Units','Median House Age','Inside City?','Owner Occupied Units','Vacant Units','Owner Occupied 1-4 Fam Units','Renter Occupied','state','county']\n",
    "columns.append(demographic_columns)\n",
    "columns.append(population_columns)\n",
    "columns.append(housing_columns)\n",
    "\n",
    "report = ['demographic','population','housing'] # type of data to pull from census site"
   ]
  },
  {
   "cell_type": "code",
   "execution_count": 4,
   "metadata": {},
   "outputs": [
    {
     "name": "stdout",
     "output_type": "stream",
     "text": [
      "https://www.ffiec.gov/census/report.aspx?year=2017&state=36&msa=&county=047&tract=ALL&report=demographic\n",
      "8\n",
      "https://www.ffiec.gov/census/report.aspx?year=2017&state=36&msa=&county=061&tract=ALL&report=demographic\n",
      "3\n",
      "https://www.ffiec.gov/census/report.aspx?year=2017&state=06&msa=&county=075&tract=ALL&report=demographic\n",
      "2\n",
      "https://www.ffiec.gov/census/report.aspx?year=2017&state=11&msa=&county=001&tract=ALL&report=demographic\n",
      "2\n",
      "https://www.ffiec.gov/census/report.aspx?year=2017&state=06&msa=&county=037&tract=ALL&report=demographic\n",
      "24\n",
      "https://www.ffiec.gov/census/report.aspx?year=2017&state=17&msa=&county=031&tract=ALL&report=demographic\n",
      "14\n",
      "https://www.ffiec.gov/census/report.aspx?year=2017&state=25&msa=&county=025&tract=ALL&report=demographic\n",
      "3\n",
      "https://www.ffiec.gov/census/report.aspx?year=2017&state=36&msa=&county=081&tract=ALL&report=demographic\n",
      "7\n",
      "https://www.ffiec.gov/census/report.aspx?year=2017&state=06&msa=&county=081&tract=ALL&report=demographic\n",
      "2\n",
      "https://www.ffiec.gov/census/report.aspx?year=2017&state=25&msa=&county=021&tract=ALL&report=demographic\n",
      "2\n",
      "https://www.ffiec.gov/census/report.aspx?year=2017&state=36&msa=&county=005&tract=ALL&report=demographic\n",
      "4\n",
      "https://www.ffiec.gov/census/report.aspx?year=2017&state=06&msa=&county=111&tract=ALL&report=demographic\n",
      "2\n",
      "https://www.ffiec.gov/census/report.aspx?year=2017&state=36&msa=&county=085&tract=ALL&report=demographic\n",
      "2\n",
      "https://www.ffiec.gov/census/report.aspx?year=2017&state=36&msa=&county=119&tract=ALL&report=demographic\n",
      "3\n",
      "https://www.ffiec.gov/census/report.aspx?year=2017&state=24&msa=&county=033&tract=ALL&report=demographic\n",
      "3\n",
      "https://www.ffiec.gov/census/report.aspx?year=2017&state=53&msa=&county=025&tract=ALL&report=demographic\n",
      "1\n",
      "https://www.ffiec.gov/census/report.aspx?year=2017&state=06&msa=&county=059&tract=ALL&report=demographic\n",
      "6\n",
      "https://www.ffiec.gov/census/report.aspx?year=2017&state=34&msa=&county=017&tract=ALL&report=demographic\n",
      "2\n",
      "https://www.ffiec.gov/census/report.aspx?year=2017&state=25&msa=&county=017&tract=ALL&report=demographic\n",
      "4\n",
      "https://www.ffiec.gov/census/report.aspx?year=2017&state=06&msa=&county=071&tract=ALL&report=demographic\n",
      "4\n",
      "https://www.ffiec.gov/census/report.aspx?year=2017&state=24&msa=&county=031&tract=ALL&report=demographic\n",
      "3\n",
      "https://www.ffiec.gov/census/report.aspx?year=2017&state=06&msa=&county=029&tract=ALL&report=demographic\n",
      "2\n",
      "https://www.ffiec.gov/census/report.aspx?year=2017&state=36&msa=&county=059&tract=ALL&report=demographic\n",
      "3\n",
      "https://www.ffiec.gov/census/report.aspx?year=2017&state=42&msa=&county=007&tract=ALL&report=demographic\n",
      "1\n",
      "https://www.ffiec.gov/census/report.aspx?year=2017&state=06&msa=&county=065&tract=ALL&report=demographic\n",
      "5\n",
      "https://www.ffiec.gov/census/report.aspx?year=2017&state=06&msa=&county=083&tract=ALL&report=demographic\n",
      "1\n",
      "https://www.ffiec.gov/census/report.aspx?year=2017&state=50&msa=&county=003&tract=ALL&report=demographic\n",
      "1\n",
      "https://www.ffiec.gov/census/report.aspx?year=2017&state=06&msa=&county=085&tract=ALL&report=demographic\n",
      "4\n",
      "https://www.ffiec.gov/census/report.aspx?year=2017&state=17&msa=&county=197&tract=ALL&report=demographic\n",
      "2\n"
     ]
    },
    {
     "data": {
      "text/plain": [
       "['8',\n",
       " '3',\n",
       " '2',\n",
       " '2',\n",
       " '24',\n",
       " '14',\n",
       " '3',\n",
       " '7',\n",
       " '2',\n",
       " '2',\n",
       " '4',\n",
       " '2',\n",
       " '2',\n",
       " '3',\n",
       " '3',\n",
       " '1',\n",
       " '6',\n",
       " '2',\n",
       " '4',\n",
       " '4',\n",
       " '3',\n",
       " '2',\n",
       " '3',\n",
       " '1',\n",
       " '5',\n",
       " '1',\n",
       " '1',\n",
       " '4',\n",
       " '2']"
      ]
     },
     "execution_count": 4,
     "metadata": {},
     "output_type": "execute_result"
    }
   ],
   "source": [
    "def get_Page(url):\n",
    "    # This function is used to pull the max page number from each counties report on the FFIEC website\n",
    "    # Example of url for this function is: https://www.ffiec.gov/census/report.aspx?year=2017&county=019&tract=ALL&state=06&report=demographic\n",
    "    html_response = requests.get(url).text.encode('utf-8') # request html (hot garbage)\n",
    "    soup = BeautifulSoup(html_response, 'html.parser')\n",
    "    pages = soup.find_all(\"span\", class_=\"main-body\") # page number sits in this class\n",
    "    pages = str(pages[4].string) # specific to this site, lists page n of n\n",
    "    try:\n",
    "        page = int(pages[-2:]) # hoping this is a common format\n",
    "    except Exception:\n",
    "        page = 1\n",
    "    return page\n",
    "\n",
    "def consolidate_pages(state):\n",
    "    pages = []\n",
    "    for i in range(len(state)):\n",
    "            # This uses the demographic report to pull the max page number, although any type of report should give the same result\n",
    "            print('Pulling page numbers from the govt. census website . . .')\n",
    "            base_url = 'https://www.ffiec.gov/census/report.aspx?year=2017&state=' + state[i] + '&msa=&county=' + county[i] + '&tract=ALL&report=demographic'\n",
    "            try:\n",
    "                page = get_Page(base_url) # iterate through each state/county pair and pull the max page number\n",
    "            except Exception: # if there is only one page, this exception will be thrown\n",
    "                page = 1\n",
    "            page = str(page)\n",
    "            pages.append(page)\n",
    "    return pages\n",
    "\n",
    "pages = consolidate_pages(state) # define number of pages"
   ]
  },
  {
   "cell_type": "code",
   "execution_count": 6,
   "metadata": {},
   "outputs": [
    {
     "ename": "NameError",
     "evalue": "name 'pages' is not defined",
     "output_type": "error",
     "traceback": [
      "\u001b[0;31m---------------------------------------------------------------------------\u001b[0m",
      "\u001b[0;31mNameError\u001b[0m                                 Traceback (most recent call last)",
      "\u001b[0;32m<ipython-input-6-6138a13d3d4c>\u001b[0m in \u001b[0;36m<module>\u001b[0;34m()\u001b[0m\n\u001b[0;32m----> 1\u001b[0;31m \u001b[0mpages\u001b[0m\u001b[0;34m\u001b[0m\u001b[0m\n\u001b[0m",
      "\u001b[0;31mNameError\u001b[0m: name 'pages' is not defined"
     ]
    }
   ],
   "source": [
    "pages"
   ]
  },
  {
   "cell_type": "code",
   "execution_count": 5,
   "metadata": {},
   "outputs": [
    {
     "name": "stdout",
     "output_type": "stream",
     "text": [
      "0.0\n"
     ]
    },
    {
     "ename": "NameError",
     "evalue": "name 'pages' is not defined",
     "output_type": "error",
     "traceback": [
      "\u001b[0;31m---------------------------------------------------------------------------\u001b[0m",
      "\u001b[0;31mNameError\u001b[0m                                 Traceback (most recent call last)",
      "\u001b[0;32m<ipython-input-5-a564e896dd7f>\u001b[0m in \u001b[0;36m<module>\u001b[0;34m()\u001b[0m\n\u001b[1;32m      7\u001b[0m     \u001b[0;32mfor\u001b[0m \u001b[0mi\u001b[0m \u001b[0;32min\u001b[0m \u001b[0mrange\u001b[0m\u001b[0;34m(\u001b[0m\u001b[0mlen\u001b[0m\u001b[0;34m(\u001b[0m\u001b[0mstate\u001b[0m\u001b[0;34m)\u001b[0m\u001b[0;34m)\u001b[0m\u001b[0;34m:\u001b[0m\u001b[0;34m\u001b[0m\u001b[0m\n\u001b[1;32m      8\u001b[0m         \u001b[0mprint\u001b[0m\u001b[0;34m(\u001b[0m\u001b[0;34m(\u001b[0m\u001b[0mi\u001b[0m\u001b[0;34m/\u001b[0m\u001b[0;34m(\u001b[0m\u001b[0;34m(\u001b[0m\u001b[0mlen\u001b[0m\u001b[0;34m(\u001b[0m\u001b[0mstate\u001b[0m\u001b[0;34m)\u001b[0m\u001b[0;34m*\u001b[0m\u001b[0mlen\u001b[0m\u001b[0;34m(\u001b[0m\u001b[0mreport\u001b[0m\u001b[0;34m)\u001b[0m\u001b[0;34m)\u001b[0m\u001b[0;34m)\u001b[0m\u001b[0;34m)\u001b[0m\u001b[0;34m)\u001b[0m \u001b[0;31m# progress bar so I don't get impatient\u001b[0m\u001b[0;34m\u001b[0m\u001b[0m\n\u001b[0;32m----> 9\u001b[0;31m         \u001b[0murl\u001b[0m \u001b[0;34m=\u001b[0m \u001b[0;34m'https://www.ffiec.gov/census/report.aspx?year=2017&state='\u001b[0m \u001b[0;34m+\u001b[0m \u001b[0mstate\u001b[0m\u001b[0;34m[\u001b[0m\u001b[0mi\u001b[0m\u001b[0;34m]\u001b[0m \u001b[0;34m+\u001b[0m \u001b[0;34m'&msa=&county='\u001b[0m \u001b[0;34m+\u001b[0m \u001b[0mcounty\u001b[0m\u001b[0;34m[\u001b[0m\u001b[0mi\u001b[0m\u001b[0;34m]\u001b[0m \u001b[0;34m+\u001b[0m \u001b[0;34m'&tract=ALL&report='\u001b[0m \u001b[0;34m+\u001b[0m \u001b[0mreport\u001b[0m\u001b[0;34m[\u001b[0m\u001b[0mj\u001b[0m\u001b[0;34m]\u001b[0m\u001b[0;34m+\u001b[0m \u001b[0;34m'&page='\u001b[0m \u001b[0;34m+\u001b[0m \u001b[0mpages\u001b[0m\u001b[0;34m[\u001b[0m\u001b[0mi\u001b[0m\u001b[0;34m]\u001b[0m\u001b[0;34m\u001b[0m\u001b[0m\n\u001b[0m\u001b[1;32m     10\u001b[0m         \u001b[0mhtml\u001b[0m \u001b[0;34m=\u001b[0m \u001b[0mrequests\u001b[0m\u001b[0;34m.\u001b[0m\u001b[0mget\u001b[0m\u001b[0;34m(\u001b[0m\u001b[0murl\u001b[0m\u001b[0;34m)\u001b[0m\u001b[0;34m.\u001b[0m\u001b[0mcontent\u001b[0m\u001b[0;34m\u001b[0m\u001b[0m\n\u001b[1;32m     11\u001b[0m         \u001b[0mdf_list\u001b[0m \u001b[0;34m=\u001b[0m \u001b[0mpd\u001b[0m\u001b[0;34m.\u001b[0m\u001b[0mread_html\u001b[0m\u001b[0;34m(\u001b[0m\u001b[0mhtml\u001b[0m\u001b[0;34m)\u001b[0m\u001b[0;34m\u001b[0m\u001b[0m\n",
      "\u001b[0;31mNameError\u001b[0m: name 'pages' is not defined"
     ]
    }
   ],
   "source": [
    "report = ['demographic','population','housing']\n",
    "baseurl = 'https://www.ffiec.gov/census/report.aspx?year=2017&county=019&tract=ALL&state=06&report=demographic'\n",
    "\n",
    "for j in range(len(report)): \n",
    "    column_df = columns[j] # use the correct headers for each type of census report\n",
    "    df = pd.DataFrame(columns = columns[j]) # initialize dataframe to hold consolidated reports\n",
    "    for i in range(len(state)):\n",
    "        print((i/((len(state)*len(report))))) # progress bar so I don't get impatient\n",
    "        url = 'https://www.ffiec.gov/census/report.aspx?year=2017&state=' + state[i] + '&msa=&county=' + county[i] + '&tract=ALL&report=' + report[j]+ '&page=' + pages[i]\n",
    "        html = requests.get(url).content\n",
    "        df_list = pd.read_html(html)\n",
    "        df_list = df_list[-1] # transpose to meet df structure\n",
    "        df_list['state'] = state[i]\n",
    "        df_list['county'] = county[i]\n",
    "        df_list = df_list.iloc[1:,:] # remove first row to prevent duplicate column headers\n",
    "        df_list.columns = column_df\n",
    "        df = df.append(df_list) # add to data frame\n",
    "        df.to_csv('censusInfo_' + report[j] + '.csv', index = False)"
   ]
  }
 ],
 "metadata": {
  "kernelspec": {
   "display_name": "Python 3",
   "language": "python",
   "name": "python3"
  },
  "language_info": {
   "codemirror_mode": {
    "name": "ipython",
    "version": 3
   },
   "file_extension": ".py",
   "mimetype": "text/x-python",
   "name": "python",
   "nbconvert_exporter": "python",
   "pygments_lexer": "ipython3",
   "version": "3.6.3"
  }
 },
 "nbformat": 4,
 "nbformat_minor": 2
}
